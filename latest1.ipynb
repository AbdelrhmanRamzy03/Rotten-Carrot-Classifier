{
 "cells": [
  {
   "cell_type": "code",
   "execution_count": null,
   "id": "01453a16",
   "metadata": {},
   "outputs": [
    {
     "name": "stdout",
     "output_type": "stream",
     "text": [
      "Image loaded: C:\\Users\\Destiny\\Downloads\\Rotten Carrot\\download.jpg, shape: (183, 275, 3)\n",
      "Total carrot pixels: 2227, Rotten pixels inside carrot: 178, Rotten ratio: 0.0799\n",
      "Classification: Not Fresh (92.0% good)\n",
      "Press any key in an image window to exit...\n"
     ]
    }
   ],
   "source": [
    "import cv2\n",
    "import numpy as np\n",
    "\n",
    "def load_image(path):\n",
    "    img = cv2.imread(path)\n",
    "    if img is None:\n",
    "        raise FileNotFoundError(f\"Image not found at path: {path}\")\n",
    "    print(f\"Image loaded: {path}, shape: {img.shape}\")\n",
    "    return img\n",
    "\n",
    "def create_carrot_mask(img):\n",
    "    hsv = cv2.cvtColor(img, cv2.COLOR_BGR2HSV)\n",
    "    lower_carrot = np.array([12, 150, 150])\n",
    "    upper_carrot = np.array([20, 255, 255])\n",
    "    mask = cv2.inRange(hsv, lower_carrot, upper_carrot)\n",
    "    return mask\n",
    "\n",
    "def create_rotten_mask(img):\n",
    "    hsv = cv2.cvtColor(img, cv2.COLOR_BGR2HSV)\n",
    "    gray = cv2.cvtColor(img, cv2.COLOR_BGR2GRAY)\n",
    "    lower_dark = np.array([0, 0, 0])\n",
    "    upper_dark = np.array([50, 255, 180]) \n",
    "    dark_mask = cv2.inRange(hsv, lower_dark, upper_dark)\n",
    "    lower_white = np.array([0, 0, 180])\n",
    "    upper_white = np.array([180, 60, 255])\n",
    "    white_mask = cv2.inRange(hsv, lower_white, upper_white)\n",
    "    _, gray_mask = cv2.threshold(gray, 90, 255, cv2.THRESH_BINARY_INV)\n",
    "    combined = cv2.bitwise_or(dark_mask, white_mask)\n",
    "    combined = cv2.bitwise_or(combined, gray_mask)\n",
    "    kernel = cv2.getStructuringElement(cv2.MORPH_ELLIPSE, (5,5))\n",
    "    cleaned = cv2.morphologyEx(combined, cv2.MORPH_OPEN, kernel)\n",
    "    return cleaned\n",
    "\n",
    "def is_carrot_present(mask_carrot, img_shape):\n",
    "    total_pixels = np.sum(mask_carrot > 0)\n",
    "    ratio = total_pixels / (img_shape[0] * img_shape[1])\n",
    "    return total_pixels > 800 and 0.005 < ratio < 0.6\n",
    "\n",
    "def classify_freshness(img):\n",
    "    carrot_mask = create_carrot_mask(img)\n",
    "    rotten_mask = create_rotten_mask(img)\n",
    "    rotten_in_carrot = cv2.bitwise_and(carrot_mask, rotten_mask)\n",
    "    total_carrot = np.sum(carrot_mask > 0)\n",
    "    total_rotten = np.sum(rotten_in_carrot > 0)\n",
    "    if total_carrot == 0 or not is_carrot_present(carrot_mask, img.shape):\n",
    "        return \"Not a carrot or unclear\", carrot_mask, rotten_in_carrot\n",
    "    rotten_ratio = total_rotten / total_carrot\n",
    "    print(f\"Total carrot pixels: {total_carrot}, Rotten pixels inside carrot: {total_rotten}, Rotten ratio: {rotten_ratio:.4f}\")\n",
    "    if rotten_ratio > 0.07 and total_rotten > 150:\n",
    "        return f\"Not Fresh ({(1 - rotten_ratio)*100:.1f}% good)\", carrot_mask, rotten_in_carrot\n",
    "    else:\n",
    "        return f\"Fresh ({(1 - rotten_ratio)*100:.1f}% good)\", carrot_mask, rotten_in_carrot\n",
    "\n",
    "def display_results(img, carrot_mask, rotten_mask, classification):\n",
    "    marked = img.copy()\n",
    "    marked[rotten_mask > 0] = [0, 0, 255] \n",
    "    cv2.imshow(\"Original Image\", img)\n",
    "    cv2.imshow(\"Carrot Mask\", carrot_mask)\n",
    "    cv2.imshow(\"Rotten Mask\", rotten_mask)\n",
    "    cv2.imshow(\"Rotten Inside Carrot Mask\", rotten_mask)\n",
    "    cv2.imshow(f\"Result - {classification}\", marked)\n",
    "    print(f\"Classification: {classification}\")\n",
    "    print(\"Press any key in an image window to exit...\")\n",
    "    cv2.waitKey(0)\n",
    "    cv2.destroyAllWindows()\n",
    "\n",
    "if __name__ == \"__main__\":\n",
    "    path = input(\"Enter image path: \").strip()\n",
    "    image = load_image(path)\n",
    "    classification, carrot_mask, rotten_mask = classify_freshness(image)\n",
    "    display_results(image, carrot_mask, rotten_mask, classification)\n"
   ]
  },
  {
   "cell_type": "code",
   "execution_count": null,
   "id": "d0abcc91",
   "metadata": {},
   "outputs": [],
   "source": []
  }
 ],
 "metadata": {
  "kernelspec": {
   "display_name": "Python 3",
   "language": "python",
   "name": "python3"
  },
  "language_info": {
   "codemirror_mode": {
    "name": "ipython",
    "version": 3
   },
   "file_extension": ".py",
   "mimetype": "text/x-python",
   "name": "python",
   "nbconvert_exporter": "python",
   "pygments_lexer": "ipython3",
   "version": "3.10.0"
  }
 },
 "nbformat": 4,
 "nbformat_minor": 5
}
